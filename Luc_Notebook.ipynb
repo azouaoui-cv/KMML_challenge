{
 "cells": [
  {
   "cell_type": "markdown",
   "metadata": {},
   "source": [
    "# Challenge Scratchbook\n",
    "\n",
    "* This notebook explores methods for the Kernel Methods for Machine Learning Kaggle [challenge](https://www.kaggle.com/c/kernel-methods-for-machine-learning-2018-2019/data).\n",
    "\n",
    "* Note that this is a binary classification challenge.\n",
    "\n",
    "Our first goal is to implement two baseline methods:\n",
    "1. Random classification\n",
    "2. All instances are 0s (Doing so we get an idea of the proportion of 0's in the public test set)\n",
    "3. Implement the Simple Pattern Recognition Algorithm (SPR) from Learning with Kernels \n",
    "\n",
    "Before that, we have to implement some data loaders"
   ]
  },
  {
   "cell_type": "markdown",
   "metadata": {},
   "source": [
    "## Imports"
   ]
  },
  {
   "cell_type": "code",
   "execution_count": 1,
   "metadata": {},
   "outputs": [],
   "source": [
    "import csv\n",
    "import os\n",
    "import numpy as np\n",
    "from scipy import optimize\n",
    "from itertools import product\n",
    "import matplotlib.pyplot as plt\n",
    "from tqdm import tqdm_notebook\n",
    "import scipy as sp\n",
    "from time import time\n",
    "from utils.data import load_data, save_results\n",
    "from utils.models import SVM, SPR, PCA\n",
    "from utils.kernels import GaussianKernel"
   ]
  },
  {
   "cell_type": "markdown",
   "metadata": {},
   "source": [
    "## Paths and Globals"
   ]
  },
  {
   "cell_type": "code",
   "execution_count": 2,
   "metadata": {},
   "outputs": [],
   "source": [
    "CWD = os.getcwd()\n",
    "DATA_DIR = os.path.join(CWD, \"data\")\n",
    "RESULT_DIR = os.path.join(CWD, \"results\")\n",
    "\n",
    "FILES = {0: {\"train_mat\": \"Xtr0_mat100.csv\",\n",
    "             \"train\": \"Xtr0.csv\",\n",
    "             \"test_mat\": \"Xte0_mat100.csv\",\n",
    "             \"test\": \"Xte0.csv\",\n",
    "             \"label\": \"Ytr0.csv\"},\n",
    "         1: {\"train_mat\": \"Xtr1_mat100.csv\",\n",
    "             \"train\": \"Xtr1.csv\",\n",
    "             \"test_mat\": \"Xte1_mat100.csv\",\n",
    "             \"test\": \"Xte1.csv\",\n",
    "             \"label\": \"Ytr1.csv\"},\n",
    "         2: {\"train_mat\": \"Xtr2_mat100.csv\",\n",
    "             \"train\": \"Xtr2.csv\",\n",
    "             \"test_mat\": \"Xte2_mat100.csv\",\n",
    "             \"test\": \"Xte2.csv\",\n",
    "             \"label\": \"Ytr2.csv\"}}"
   ]
  },
  {
   "cell_type": "markdown",
   "metadata": {},
   "source": [
    "## 0 entries"
   ]
  },
  {
   "cell_type": "code",
   "execution_count": 3,
   "metadata": {},
   "outputs": [],
   "source": [
    "#with open(os.path.join(RESULT_DIR, \"results.csv\"), 'w', newline='') as csvfile:\n",
    " #   writer = csv.writer(csvfile, delimiter=',')\n",
    "    \n",
    "  #  writer.writerow([\"Id\", \"Bound\"])\n",
    "   # for i in range(3000):\n",
    "    #    writer.writerow([i, 0])"
   ]
  },
  {
   "cell_type": "markdown",
   "metadata": {},
   "source": [
    "**Comment:**\n",
    "\n",
    "* We get 0.51266 which means that the dataset is pretty balanced."
   ]
  },
  {
   "cell_type": "markdown",
   "metadata": {},
   "source": [
    "## SPR: A Simple Pattern Recognition Algorithm"
   ]
  },
  {
   "cell_type": "code",
   "execution_count": null,
   "metadata": {},
   "outputs": [],
   "source": [
    "γ = 500\n",
    "λ = 5e-5\n",
    "kernel = GaussianKernel(γ)\n",
    "\n",
    "results = np.zeros(3000)\n",
    "len_files = len(FILES)\n",
    "for i in range(len_files):\n",
    "    X_train, Y_train, X_test = load_data(i, data_dir=DATA_DIR, files_dict=FILES)\n",
    "    X_val = X_train[1600:]\n",
    "    Y_val = Y_train[1600:]\n",
    "    X_train = X_train[:1600]\n",
    "    Y_train = Y_train[:1600]\n",
    "    clf = SPR(kernel)\n",
    "    clf.fit(X_train, Y_train)\n",
    "    y_pred_train =clf.predict(X_train)\n",
    "    y_pred_val = clf.predict(X_val)\n",
    "    score_train = clf.score(y_pred_train, Y_train)\n",
    "    score_val = clf.score(y_pred_val, Y_val)\n",
    "    #results[i*1000:i*1000 + 1000] = y_pred_test\n",
    "    print(f\"Accuracy on train set / val set {i} : {score_train} / {score_val} (λ: {λ},γ: {γ})\")"
   ]
  },
  {
   "cell_type": "markdown",
   "metadata": {},
   "source": [
    "## Define Kernels (to delete)"
   ]
  },
  {
   "cell_type": "code",
   "execution_count": 17,
   "metadata": {},
   "outputs": [],
   "source": [
    "def pol_kernel(x,y,c): #c=0\n",
    "    return (x.dot(y) + c)**2\n",
    "\n",
    "def gaussian_kernel(x,y, gamma): #c=100\n",
    "    return np.exp(-gamma*np.linalg.norm(x-y)**2)\n",
    "\n",
    "def linear_kernel(x,y,c): \n",
    "    return x.dot(y)\n",
    "\n",
    "def laplace_kernel(x,y,gamma):\n",
    "    return np.exp(-gamma*np.linalg.norm(x-y,1))"
   ]
  },
  {
   "cell_type": "markdown",
   "metadata": {},
   "source": [
    "## SVM"
   ]
  },
  {
   "cell_type": "code",
   "execution_count": 11,
   "metadata": {},
   "outputs": [
    {
     "name": "stdout",
     "output_type": "stream",
     "text": [
      "Accuracy on train set / val set 0 : 1.0 / 0.5775 (λ: 5e-05,γ: 400)\n",
      "Accuracy on train set / val set 1 : 1.0 / 0.7425 (λ: 5e-05,γ: 400)\n",
      "Accuracy on train set / val set 2 : 1.0 / 0.6275 (λ: 5e-05,γ: 400)\n"
     ]
    }
   ],
   "source": [
    "γ = 400\n",
    "λ = 5e-5\n",
    "kernel = GaussianKernel(γ)\n",
    "\n",
    "results = np.zeros(3000)\n",
    "len_files = len(FILES)\n",
    "for i in range(len_files):\n",
    "    X_train, Y_train, X_test = load_data(i, data_dir=DATA_DIR, files_dict=FILES)\n",
    "    X_val = X_train[1600:]\n",
    "    Y_val = Y_train[1600:]\n",
    "    X_train = X_train[:1600]\n",
    "    Y_train = Y_train[:1600]\n",
    "    clf = SVM(_lambda=λ, kernel=kernel)\n",
    "    clf.fit(X_train, Y_train)\n",
    "    y_pred_train =clf.predict(X_train)\n",
    "    y_pred_val = clf.predict(X_val)\n",
    "    score_train = clf.score(y_pred_train, Y_train)\n",
    "    score_val = clf.score(y_pred_val, Y_val)\n",
    "    #results[i*1000:i*1000 + 1000] = y_pred_test\n",
    "    print(f\"Accuracy on train set / val set {i} : {score_train} / {score_val} (λ: {λ},γ: {γ})\")"
   ]
  },
  {
   "cell_type": "markdown",
   "metadata": {},
   "source": [
    "## Tuning SVM"
   ]
  },
  {
   "cell_type": "code",
   "execution_count": 13,
   "metadata": {
    "collapsed": true
   },
   "outputs": [
    {
     "name": "stdout",
     "output_type": "stream",
     "text": [
      "Accuracy on train set / val set 0 : 1.0 / 0.5575 (λ: 5e-06,γ: 300.0)\n",
      "Accuracy on train set / val set 1 : 1.0 / 0.745 (λ: 5e-06,γ: 300.0)\n",
      "Accuracy on train set / val set 2 : 1.0 / 0.6325 (λ: 5e-06,γ: 300.0)\n",
      "\n",
      "\n",
      "Accuracy on train set / val set 0 : 1.0 / 0.5575 (λ: 2.875e-05,γ: 300.0)\n",
      "Accuracy on train set / val set 1 : 1.0 / 0.745 (λ: 2.875e-05,γ: 300.0)\n",
      "Accuracy on train set / val set 2 : 1.0 / 0.6325 (λ: 2.875e-05,γ: 300.0)\n",
      "\n",
      "\n",
      "Accuracy on train set / val set 0 : 1.0 / 0.5575 (λ: 5.25e-05,γ: 300.0)\n",
      "Accuracy on train set / val set 1 : 1.0 / 0.745 (λ: 5.25e-05,γ: 300.0)\n",
      "Accuracy on train set / val set 2 : 1.0 / 0.6325 (λ: 5.25e-05,γ: 300.0)\n",
      "\n",
      "\n",
      "Accuracy on train set / val set 0 : 1.0 / 0.5575 (λ: 7.625e-05,γ: 300.0)\n",
      "Accuracy on train set / val set 1 : 1.0 / 0.745 (λ: 7.625e-05,γ: 300.0)\n",
      "Accuracy on train set / val set 2 : 1.0 / 0.6325 (λ: 7.625e-05,γ: 300.0)\n",
      "\n",
      "\n",
      "Accuracy on train set / val set 0 : 1.0 / 0.56 (λ: 0.0001,γ: 300.0)\n",
      "Accuracy on train set / val set 1 : 1.0 / 0.745 (λ: 0.0001,γ: 300.0)\n",
      "Accuracy on train set / val set 2 : 1.0 / 0.6325 (λ: 0.0001,γ: 300.0)\n",
      "\n",
      "\n",
      "Accuracy on train set / val set 0 : 1.0 / 0.565 (λ: 5e-06,γ: 350.0)\n",
      "Accuracy on train set / val set 1 : 1.0 / 0.74 (λ: 5e-06,γ: 350.0)\n",
      "Accuracy on train set / val set 2 : 1.0 / 0.63 (λ: 5e-06,γ: 350.0)\n",
      "\n",
      "\n",
      "Accuracy on train set / val set 0 : 1.0 / 0.565 (λ: 2.875e-05,γ: 350.0)\n",
      "Accuracy on train set / val set 1 : 1.0 / 0.74 (λ: 2.875e-05,γ: 350.0)\n",
      "Accuracy on train set / val set 2 : 1.0 / 0.63 (λ: 2.875e-05,γ: 350.0)\n",
      "\n",
      "\n",
      "Accuracy on train set / val set 0 : 1.0 / 0.565 (λ: 5.25e-05,γ: 350.0)\n",
      "Accuracy on train set / val set 1 : 1.0 / 0.74 (λ: 5.25e-05,γ: 350.0)\n",
      "Accuracy on train set / val set 2 : 1.0 / 0.63 (λ: 5.25e-05,γ: 350.0)\n",
      "\n",
      "\n",
      "Accuracy on train set / val set 0 : 1.0 / 0.565 (λ: 7.625e-05,γ: 350.0)\n",
      "Accuracy on train set / val set 1 : 1.0 / 0.74 (λ: 7.625e-05,γ: 350.0)\n",
      "Accuracy on train set / val set 2 : 1.0 / 0.63 (λ: 7.625e-05,γ: 350.0)\n",
      "\n",
      "\n",
      "Accuracy on train set / val set 0 : 1.0 / 0.565 (λ: 0.0001,γ: 350.0)\n",
      "Accuracy on train set / val set 1 : 1.0 / 0.74 (λ: 0.0001,γ: 350.0)\n",
      "Accuracy on train set / val set 2 : 1.0 / 0.63 (λ: 0.0001,γ: 350.0)\n",
      "\n",
      "\n",
      "Accuracy on train set / val set 0 : 1.0 / 0.5775 (λ: 5e-06,γ: 400.0)\n",
      "Accuracy on train set / val set 1 : 1.0 / 0.7425 (λ: 5e-06,γ: 400.0)\n",
      "Accuracy on train set / val set 2 : 1.0 / 0.6275 (λ: 5e-06,γ: 400.0)\n",
      "\n",
      "\n",
      "Accuracy on train set / val set 0 : 1.0 / 0.5775 (λ: 2.875e-05,γ: 400.0)\n",
      "Accuracy on train set / val set 1 : 1.0 / 0.7425 (λ: 2.875e-05,γ: 400.0)\n",
      "Accuracy on train set / val set 2 : 1.0 / 0.6275 (λ: 2.875e-05,γ: 400.0)\n",
      "\n",
      "\n",
      "Accuracy on train set / val set 0 : 1.0 / 0.5775 (λ: 5.25e-05,γ: 400.0)\n",
      "Accuracy on train set / val set 1 : 1.0 / 0.7425 (λ: 5.25e-05,γ: 400.0)\n",
      "Accuracy on train set / val set 2 : 1.0 / 0.6275 (λ: 5.25e-05,γ: 400.0)\n",
      "\n",
      "\n",
      "Accuracy on train set / val set 0 : 1.0 / 0.5775 (λ: 7.625e-05,γ: 400.0)\n",
      "Accuracy on train set / val set 1 : 1.0 / 0.7425 (λ: 7.625e-05,γ: 400.0)\n",
      "Accuracy on train set / val set 2 : 1.0 / 0.6275 (λ: 7.625e-05,γ: 400.0)\n",
      "\n",
      "\n",
      "Accuracy on train set / val set 0 : 1.0 / 0.5775 (λ: 0.0001,γ: 400.0)\n",
      "Accuracy on train set / val set 1 : 1.0 / 0.7425 (λ: 0.0001,γ: 400.0)\n",
      "Accuracy on train set / val set 2 : 1.0 / 0.6275 (λ: 0.0001,γ: 400.0)\n",
      "\n",
      "\n",
      "Accuracy on train set / val set 0 : 1.0 / 0.5675 (λ: 5e-06,γ: 450.0)\n",
      "Accuracy on train set / val set 1 : 1.0 / 0.7325 (λ: 5e-06,γ: 450.0)\n",
      "Accuracy on train set / val set 2 : 1.0 / 0.6275 (λ: 5e-06,γ: 450.0)\n",
      "\n",
      "\n",
      "Accuracy on train set / val set 0 : 1.0 / 0.5675 (λ: 2.875e-05,γ: 450.0)\n",
      "Accuracy on train set / val set 1 : 1.0 / 0.7325 (λ: 2.875e-05,γ: 450.0)\n",
      "Accuracy on train set / val set 2 : 1.0 / 0.6275 (λ: 2.875e-05,γ: 450.0)\n",
      "\n",
      "\n",
      "Accuracy on train set / val set 0 : 1.0 / 0.5675 (λ: 5.25e-05,γ: 450.0)\n",
      "Accuracy on train set / val set 1 : 1.0 / 0.7325 (λ: 5.25e-05,γ: 450.0)\n",
      "Accuracy on train set / val set 2 : 1.0 / 0.6275 (λ: 5.25e-05,γ: 450.0)\n",
      "\n",
      "\n",
      "Accuracy on train set / val set 0 : 1.0 / 0.5675 (λ: 7.625e-05,γ: 450.0)\n",
      "Accuracy on train set / val set 1 : 1.0 / 0.7325 (λ: 7.625e-05,γ: 450.0)\n",
      "Accuracy on train set / val set 2 : 1.0 / 0.6275 (λ: 7.625e-05,γ: 450.0)\n",
      "\n",
      "\n",
      "Accuracy on train set / val set 0 : 1.0 / 0.5675 (λ: 0.0001,γ: 450.0)\n",
      "Accuracy on train set / val set 1 : 1.0 / 0.7325 (λ: 0.0001,γ: 450.0)\n",
      "Accuracy on train set / val set 2 : 1.0 / 0.6275 (λ: 0.0001,γ: 450.0)\n",
      "\n",
      "\n",
      "Accuracy on train set / val set 0 : 1.0 / 0.575 (λ: 5e-06,γ: 500.0)\n",
      "Accuracy on train set / val set 1 : 1.0 / 0.7275 (λ: 5e-06,γ: 500.0)\n",
      "Accuracy on train set / val set 2 : 1.0 / 0.6375 (λ: 5e-06,γ: 500.0)\n",
      "\n",
      "\n",
      "Accuracy on train set / val set 0 : 1.0 / 0.575 (λ: 2.875e-05,γ: 500.0)\n",
      "Accuracy on train set / val set 1 : 1.0 / 0.7275 (λ: 2.875e-05,γ: 500.0)\n",
      "Accuracy on train set / val set 2 : 1.0 / 0.6375 (λ: 2.875e-05,γ: 500.0)\n",
      "\n",
      "\n",
      "Accuracy on train set / val set 0 : 1.0 / 0.575 (λ: 5.25e-05,γ: 500.0)\n",
      "Accuracy on train set / val set 1 : 1.0 / 0.7275 (λ: 5.25e-05,γ: 500.0)\n",
      "Accuracy on train set / val set 2 : 1.0 / 0.6375 (λ: 5.25e-05,γ: 500.0)\n",
      "\n",
      "\n",
      "Accuracy on train set / val set 0 : 1.0 / 0.575 (λ: 7.625e-05,γ: 500.0)\n",
      "Accuracy on train set / val set 1 : 1.0 / 0.7275 (λ: 7.625e-05,γ: 500.0)\n",
      "Accuracy on train set / val set 2 : 1.0 / 0.6375 (λ: 7.625e-05,γ: 500.0)\n",
      "\n",
      "\n",
      "Accuracy on train set / val set 0 : 1.0 / 0.575 (λ: 0.0001,γ: 500.0)\n",
      "Accuracy on train set / val set 1 : 1.0 / 0.7275 (λ: 0.0001,γ: 500.0)\n",
      "Accuracy on train set / val set 2 : 1.0 / 0.6375 (λ: 0.0001,γ: 500.0)\n",
      "\n",
      "\n"
     ]
    }
   ],
   "source": [
    "γ = 500\n",
    "λ = 1e-4\n",
    "gamma_list = np.linspace(300,γ,5, endpoint = True)\n",
    "lambda_list = np.linspace(5e-6, λ, 5, endpoint = True)\n",
    "settings = list(product(gamma_list,lambda_list))\n",
    "best_score = {i: 0 for i in range(3)}\n",
    "best_lambda = {i: 0 for i in range(3)}\n",
    "best_gamma = {i: 0 for i in range(3)}\n",
    "\n",
    "for k, tup in enumerate(settings):\n",
    "    \n",
    "    γ, λ = tup\n",
    "    \n",
    "    kernel = GaussianKernel(γ)\n",
    "\n",
    "    results = np.zeros(3000)\n",
    "    len_files = len(FILES)\n",
    "    for i in range(len_files):\n",
    "        X_train, Y_train, X_test = load_data(i, data_dir=DATA_DIR, files_dict=FILES)\n",
    "        X_val = X_train[1600:]\n",
    "        Y_val = Y_train[1600:]\n",
    "        X_train = X_train[:1600]\n",
    "        Y_train = Y_train[:1600]\n",
    "        clf = SVM(_lambda=λ, kernel=kernel)\n",
    "        clf.fit(X_train, Y_train)\n",
    "        y_pred_train =clf.predict(X_train)\n",
    "        y_pred_val = clf.predict(X_val)\n",
    "        score_train = clf.score(y_pred_train, Y_train)\n",
    "        score_val = clf.score(y_pred_val, Y_val)\n",
    "        #results[i*1000:i*1000 + 1000] = y_pred_test\n",
    "        print(f\"Accuracy on train set / val set {i} : {score_train} / {score_val} (λ: {λ},γ: {γ})\")\n",
    "        \n",
    "    print('\\n')"
   ]
  },
  {
   "cell_type": "markdown",
   "metadata": {},
   "source": [
    "1er lancement:\n",
    "- score : {0: 0.6, 1: 0.6775, 2: 0.6425}\n",
    "- lambda : {0: 0.0002575, 1: 1e-05, 2: 0.000505}\n",
    "- gamma : {0: 77.5, 1: 100.0, 2: 32.5}\n",
    "\n",
    "2ème lancement:\n",
    "- score : {0: 0.61, 1: 0.7075, 2: 0.6425}\n",
    "- lambda : {0: 5.5e-05, 1: 1e-05, 2: 1e-05}\n",
    "- gamma : {0: 70.0, 1: 300.0, 2: 300.0}\n",
    "\n",
    "3ème lancement:\n",
    "- score : {0: 0.6075, 1: 0.73, 2: 0.66}\n",
    "- lambda : {0: 1e-05, 1: 1e-05, 2: 1e-05}\n",
    "- gamma : {0: 350.0, 1: 400.0, 2: 500.0}\n",
    "\n",
    "4ème lancement:\n",
    "- score : {0: 0.59, 1: 0.73, 2: 0.6575}\n",
    "- lambda : {0: 5e-06, 1: 5e-06, 2: 5e-06}\n",
    "- gamma : {0: 400.0, 1: 400.0, 2: 400.0}\n",
    "\n",
    "5ème lancement ! :\n",
    "- score : {0: 0.59, 1: 0.73, 2: 0.6575}\n",
    "- lambda : {0: 5e-05, 1: 5e-05, 2: 5e-05}\n",
    "- gamma : {0: 400.0, 1: 400.0, 2: 400.0}\n",
    "\n",
    "6ème lancement (après shuffle):\n",
    "- score : {0: 0.5775, 1: 0.745, 2: 0.6375}\n",
    "- lambda : {0: 1e-05, 1: 1e-05, 2: 1e-05}\n",
    "- gamma : {0: 400.0, 1: 300.0, 2: 500.0}\n"
   ]
  },
  {
   "cell_type": "markdown",
   "metadata": {},
   "source": [
    "## Biological Sequence Modeling with Convolutional Kernel Networks"
   ]
  },
  {
   "cell_type": "markdown",
   "metadata": {},
   "source": [
    "**Define function to encode k-mer of x centered at position i**"
   ]
  },
  {
   "cell_type": "code",
   "execution_count": 7,
   "metadata": {},
   "outputs": [],
   "source": [
    "ENCODING = {'A': [1.,0.,0.,0.],\n",
    "                'C': [0.,1.,0.,0.],\n",
    "                'G': [0.,0.,1.,0.],\n",
    "                'T': [0.,0.,0.,1.]\n",
    "               }\n",
    "\n",
    "def P(i, x, k):\n",
    "    \n",
    "    not_in = True # True when the k-mers computed is at the edge of the sequence x\n",
    "    if i-(k+1)//2 + 1 < 0:\n",
    "        k_mer_i = x[len(x) + i-(k+1)//2 + 1:] + x[0 :  i + (k+2)//2]\n",
    "    elif i + (k+2)//2 > len(x):\n",
    "        k_mer_i = x[i-(k+1)//2 + 1 : ] +  x[:i + (k+2)//2 - len(x)]\n",
    "    else:\n",
    "        k_mer_i = x[i-(k+1)//2 + 1 :  i + (k+2)//2]\n",
    "        not_in = False\n",
    "        \n",
    "    # concatenate one hot encoding\n",
    "    L = []\n",
    "    for c in k_mer_i:\n",
    "        L += ENCODING[c]\n",
    "    \n",
    "    return np.array(L), not_in\n",
    "    "
   ]
  },
  {
   "cell_type": "markdown",
   "metadata": {},
   "source": [
    "**Define Kernels**"
   ]
  },
  {
   "cell_type": "code",
   "execution_count": 8,
   "metadata": {},
   "outputs": [],
   "source": [
    "def K(u, σ):\n",
    "    return np.exp((u-1)/σ**2)\n",
    "\n",
    "# define the kernel on k-mers with the norm\n",
    "def K0(z1, z2, σ):\n",
    "    z1_norm = np.linalg.norm(z1)\n",
    "    z2_norm = np.linalg.norm(z2)\n",
    "    z1z2_norm = z1_norm*z2_norm\n",
    "    return z1z2_norm*np.exp(-(1/(2*z1z2_norm*(σ**2)))*np.linalg.norm(z1-z2)**2)\n",
    "\n",
    "# same kernel but with the scalar product\n",
    "def K1(z1, z2, σ):\n",
    "    z1_norm = np.linalg.norm(z1)\n",
    "    z2_norm = np.linalg.norm(z2)\n",
    "    z1z2_norm = z1_norm*z2_norm\n",
    "    u = z1.dot(z2)/z1z2_norm\n",
    "    return z1z2_norm*K(u,σ)\n",
    "\n",
    "# define the kernel on sequences of k-mers\n",
    "def conv_kernel(x,y,k, σ):\n",
    "    mx = len(x)\n",
    "    my = len(y)    \n",
    "    Px = np.array([P(i,x,k)[0] for i in range(mx)])\n",
    "    Py = np.array([P(i,y,k)[0] for i in range(mx)])\n",
    "    PxPyt = Px.dot(Py.T)/k\n",
    "    s = k*np.exp((1/(σ**2))*(PxPyt-1))\n",
    "        \n",
    "    return np.sum(s)/(mx*my)"
   ]
  },
  {
   "cell_type": "markdown",
   "metadata": {},
   "source": [
    "## Unsupervised learning of the anchor points"
   ]
  },
  {
   "cell_type": "markdown",
   "metadata": {},
   "source": [
    "**Choose parameters k of k-mer here**"
   ]
  },
  {
   "cell_type": "code",
   "execution_count": 9,
   "metadata": {},
   "outputs": [],
   "source": [
    "k = 10"
   ]
  },
  {
   "cell_type": "markdown",
   "metadata": {},
   "source": [
    "**Load all the k-mers**"
   ]
  },
  {
   "cell_type": "code",
   "execution_count": 13,
   "metadata": {},
   "outputs": [
    {
     "name": "stdout",
     "output_type": "stream",
     "text": [
      "Number of k-mers : 184000\n"
     ]
    }
   ],
   "source": [
    "def compute_kmers_list(idx, k):\n",
    "    \n",
    "    \n",
    "    \"\"\"This function compute all the k-mers of a list of sequences\n",
    "    \n",
    "    Parameters\n",
    "    ------------\n",
    "    - idx : int\n",
    "        index of the dataset (0,1, or 2)\n",
    "    - k : int\n",
    "        length of the k-mers\n",
    "    \"\"\"\n",
    "    X_train, Y_train, X_test = load_data(idx, data_dir=DATA_DIR, files_dict=FILES, mat = False)\n",
    "    n = len(X_train)\n",
    "    m = len(X_train[0])\n",
    "    \n",
    "    kmers = []\n",
    "    for x in X_train:\n",
    "        for i in range(m):\n",
    "            p = P(i,x,k)\n",
    "            if p[1] == False:\n",
    "                kmers.append(p[0])\n",
    "            \n",
    "    kmers = np.array(kmers)\n",
    "    \n",
    "    return kmers\n",
    "\n",
    "idx= 0\n",
    "kmers = compute_kmers_list(idx, k)\n",
    "\n",
    "print(f\"Number of k-mers : {len(kmers)}\")"
   ]
  },
  {
   "cell_type": "markdown",
   "metadata": {},
   "source": [
    "**Test some $\\sigma$**"
   ]
  },
  {
   "cell_type": "code",
   "execution_count": 25,
   "metadata": {},
   "outputs": [],
   "source": [
    "σ0 = 0.4"
   ]
  },
  {
   "cell_type": "code",
   "execution_count": 26,
   "metadata": {},
   "outputs": [
    {
     "name": "stdout",
     "output_type": "stream",
     "text": [
      "Check the kernel on k-mers:\n",
      "- Value of the kernel with two identical k-mer as input\n",
      "10.000000000000002 10.000000000000002 10.000000000000002 10.000000000000002\n",
      "- Value of the kernel with two random different k-mer as input\n",
      "0.4393693362340744 0.23517745856009153 0.036065631360157405 0.019304541362277113\n",
      "\n",
      " Check the kernel on sequences:\n",
      "- Value of the kernel with two identical sequences as input\n",
      "0.25956464520581596\n",
      "0.24119415486607676\n",
      "0.23624943944397556\n",
      "0.23388930165037605\n",
      "0.24253323018997613\n",
      "- Value of the kernel with two random different sequences as input\n",
      "0.14588082760917187\n",
      "0.13881732912341568\n",
      "0.13785101515169185\n",
      "0.14012321574935283\n",
      "0.1362135709297253\n"
     ]
    }
   ],
   "source": [
    "X_train, Y_train, X_test = load_data(0, data_dir=DATA_DIR, files_dict=FILES, mat = False)\n",
    "\n",
    "\n",
    "print(\"Check the kernel on k-mers:\")\n",
    "\n",
    "print('- Value of the kernel with two identical k-mer as input')\n",
    "print(K0(kmers[0],kmers[0], σ0 ), K0(kmers[1000],kmers[1000],σ0), K0(kmers[2000],kmers[2000],σ0), \n",
    "      K0(kmers[3000],kmers[3000],σ0))\n",
    "\n",
    "print('- Value of the kernel with two random different k-mer as input')\n",
    "print(K0(kmers[0],kmers[1],σ0), K0(kmers[1000],kmers[1],σ0), K0(kmers[2000],kmers[1],σ0), K0(kmers[3000],kmers[1],σ0))\n",
    "\n",
    "print(\"\\n Check the kernel on sequences:\")\n",
    "print('- Value of the kernel with two identical sequences as input')\n",
    "print(conv_kernel(X_train[10],X_train[10],k, σ0))\n",
    "print(conv_kernel(X_train[100],X_train[100],k, σ0))\n",
    "print(conv_kernel(X_train[1000],X_train[1000],k, σ0))\n",
    "print(conv_kernel(X_train[1100],X_train[1100],k, σ0))\n",
    "print(conv_kernel(X_train[1200],X_train[1200],k, σ0))\n",
    "\n",
    "print('- Value of the kernel with two random different sequences as input')\n",
    "print(conv_kernel(X_train[0],X_train[10],k, σ0))\n",
    "print(conv_kernel(X_train[10],X_train[100],k, σ0))\n",
    "print(conv_kernel(X_train[100],X_train[1000],k, σ0))\n",
    "print(conv_kernel(X_train[1000],X_train[1100],k, σ0))\n",
    "print(conv_kernel(X_train[1100],X_train[1200],k, σ0))"
   ]
  },
  {
   "cell_type": "markdown",
   "metadata": {},
   "source": [
    "## K-means"
   ]
  },
  {
   "cell_type": "code",
   "execution_count": 27,
   "metadata": {},
   "outputs": [],
   "source": [
    "def Kmeans(X, K, max_iter):\n",
    "    \n",
    "    #step 0 (initialize centroids mu)\n",
    "    idx = np.random.randint(len(X), size=K)\n",
    "    mu = X[idx]    \n",
    "    \n",
    "    n_iter = 0\n",
    "    stop = False\n",
    "    d = 1e6\n",
    "    while stop != True:\n",
    "        \n",
    "        #create clusters\n",
    "        clustering = np.zeros(len(X))\n",
    "            \n",
    "        #step 1 (minimizing by assigning a cluster to each point)\n",
    "        for i in range(len(X)):\n",
    "            clustering[i] = np.argmin(np.linalg.norm(X[i]-mu, axis=1))\n",
    "\n",
    "        \n",
    "        #step 2 (minimizing w.r.t mu)\n",
    "        for k in range(K):\n",
    "            if np.sum([clustering==k]) != 0:\n",
    "                mu[k] = np.mean(X[clustering==k], axis=0)\n",
    "\n",
    "        \n",
    "        d_new = distortion(X, mu, clustering)\n",
    "        #print(d_new)\n",
    "        \n",
    "        if(d_new == d) or n_iter > max_iter:\n",
    "            stop = True\n",
    "        d = d_new\n",
    "        n_iter +=1\n",
    "        \n",
    "        \n",
    "        \n",
    "    return mu, clustering\n",
    "\n",
    "\n",
    "def distortion(X, mu, clustering):\n",
    "    dis = 0\n",
    "    for k in range(len(mu)):\n",
    "        dis = dis + np.linalg.norm(X[clustering==k] - mu[k])**2\n",
    "    return dis\n",
    "\n",
    "#We try several random initializations and keep the partition which minimize the distorsion.\n",
    "def Kmeans_try(X, n_try, n_cluster, max_iter):\n",
    "\n",
    "    for i in range(n_try):\n",
    "        \n",
    "        mu, cl = Kmeans(X, n_cluster, max_iter)\n",
    "    \n",
    "        if i == 0:\n",
    "            dist_min = distortion(X, mu, cl)\n",
    "            mu_min, cl_min = mu, cl\n",
    "        else:\n",
    "            if distortion(X, mu, cl) < dist_min:\n",
    "                dist_min = distortion(X, mu, cl)\n",
    "                mu_min, cl_min = mu, cl\n",
    "                \n",
    "                \n",
    "    return mu_min, cl_min, dist_min"
   ]
  },
  {
   "cell_type": "markdown",
   "metadata": {},
   "source": [
    "## Spectral Clustering"
   ]
  },
  {
   "cell_type": "code",
   "execution_count": 31,
   "metadata": {},
   "outputs": [],
   "source": [
    "def spec_cl(n_cl, kmers, σ):\n",
    "    \n",
    "    # compute Gram matrix\n",
    "    n = len(kmers)\n",
    "    K = np.zeros((n,n))\n",
    "    for j in range(n):\n",
    "        for i in range(j+1):\n",
    "            K[i,j] = K1(kmers[i],kmers[j], σ)\n",
    "    K =  K + K.T\n",
    "    np.fill_diagonal(K, np.diagonal(K)/2)\n",
    "     \n",
    "    # Compute the n_cl first eigenvectors (ui, ∆i)\n",
    "    λ, v = np.linalg.eig(K)\n",
    "    \n",
    "    # compute the maximum entry of a row\n",
    "    #cluster_idx = np.argmax(v[:,:n_cl], axis = 1)\n",
    "    # Kmeans on the rows\n",
    "    t = time()\n",
    "    n_try = 1\n",
    "    max_iter = 20\n",
    "    Z = v[:,:n_cl]/np.sum(v[:,:n_cl],axis=1).reshape(-1,1) # normalize v\n",
    "    \n",
    "    mu_rows, cluster_idx, dist = Kmeans_try(Z, n_try, n_cl, max_iter)\n",
    "    print(f\"time kmeans {time() - t}\")\n",
    "    \n",
    "    \n",
    "    # compute the barycenter\n",
    "    mu = []\n",
    "    for i in range(n_cl):\n",
    "        if np.sum([cluster_idx==i]) != 0:\n",
    "            bary = np.mean(kmers[cluster_idx==i], axis = 0)\n",
    "            mu.append(bary)\n",
    "    \n",
    "    return mu"
   ]
  },
  {
   "cell_type": "markdown",
   "metadata": {},
   "source": [
    "**Choose parameter $\\sigma$ here**"
   ]
  },
  {
   "cell_type": "code",
   "execution_count": 32,
   "metadata": {},
   "outputs": [],
   "source": [
    "σc = 0.4"
   ]
  },
  {
   "cell_type": "code",
   "execution_count": 33,
   "metadata": {},
   "outputs": [
    {
     "name": "stdout",
     "output_type": "stream",
     "text": [
      "time kmeans 118.43829107284546\n"
     ]
    }
   ],
   "source": [
    "kmers = compute_kmers_list(0, k)\n",
    "\n",
    "n_cl = 200\n",
    "n_kmers = 10000\n",
    "# choose random kmers to do clustering\n",
    "idx = np.random.choice(range(len(kmers)), size = n_kmers, replace = False)\n",
    "mu = spec_cl(n_cl, kmers[idx], σc)"
   ]
  },
  {
   "cell_type": "markdown",
   "metadata": {},
   "source": [
    "**Compute the mapping approximation $\\psi$**"
   ]
  },
  {
   "cell_type": "code",
   "execution_count": 34,
   "metadata": {},
   "outputs": [],
   "source": [
    "σ = σc\n",
    "\n",
    "Z = np.einsum('ij, i -> ij',mu, 1/np.linalg.norm(mu, axis = 1)) # normalized mu\n",
    "#Z = skm.cluster_centers_\n",
    "\n",
    "# compute K_ZZ\n",
    "p = len(mu)\n",
    "K_zz = np.zeros((p,p))\n",
    "for j in range(p):\n",
    "    for i in range(j+1):\n",
    "        K_zz[i,j] = K1(Z[i],Z[j], σ)\n",
    "K_zz =  K_zz + K_zz.T\n",
    "np.fill_diagonal(K_zz, np.diagonal(K_zz)/2)\n",
    "\n",
    "# compute K_ZZ\n",
    "K_ZZ_inv_sqr = sp.linalg.sqrtm(np.linalg.inv(K_zz))\n",
    "\n",
    "\n",
    "# define ψ_0\n",
    "def ψ_0(z,Z_anchor, k , σ):\n",
    "    return(K_ZZ_inv_sqr.dot(np.array([K1(z,z_a, σ) for z_a in Z_anchor])))\n",
    "\n",
    "\n",
    "# define ψ\n",
    "def ψ(x, Z_anchor, k , σ):\n",
    "    P_x = [P(i,x,k)[0] for i in range(len(x))]\n",
    "    L = np.array([ψ_0(z, Z_anchor, k, σ) for z in P_x])\n",
    "    return np.sum(L, axis=0)/len(L)\n",
    "\n",
    "\n",
    "# define approx kernel\n",
    "def approx_K(x,y, mu_min, k, σ):\n",
    "    return ψ(x, mu_min, k, σ).dot(ψ(y, mu_min, k, σ))"
   ]
  },
  {
   "cell_type": "markdown",
   "metadata": {},
   "source": [
    "**Check Kernel approximation**"
   ]
  },
  {
   "cell_type": "code",
   "execution_count": 35,
   "metadata": {},
   "outputs": [
    {
     "data": {
      "text/plain": [
       "(0.31779230005193637, 10.000000000000002)"
      ]
     },
     "execution_count": 35,
     "metadata": {},
     "output_type": "execute_result"
    }
   ],
   "source": [
    "x = np.random.choice(X_train)\n",
    "P_x = [P(i,x,k)[0] for i in range(len(x))]\n",
    "L = np.array([ψ_0(z, Z, k, σ) for z in P_x])\n",
    "\n",
    "\n",
    "i = 0\n",
    "j = 0\n",
    "L[i].dot(L[j]).real, K0(P_x[i],P_x[j], σ)"
   ]
  },
  {
   "cell_type": "code",
   "execution_count": 36,
   "metadata": {},
   "outputs": [
    {
     "data": {
      "application/vnd.jupyter.widget-view+json": {
       "model_id": "2b0dbe49f35348fe83ae5d4804bd5628",
       "version_major": 2,
       "version_minor": 0
      },
      "text/plain": [
       "HBox(children=(IntProgress(value=0, max=10), HTML(value='')))"
      ]
     },
     "metadata": {},
     "output_type": "display_data"
    },
    {
     "name": "stdout",
     "output_type": "stream",
     "text": [
      "0.14202739078855803 0.10633018876535529\n",
      "0.13778754157098014 0.10853707149094022\n",
      "0.1389965102874467 0.11198354172452432\n",
      "0.13815820134531406 0.11298679488309496\n",
      "0.12557085671272164 0.10142182274795869\n",
      "0.13161648558104905 0.10472830089887775\n",
      "0.17005293194695367 0.12792052954771616\n",
      "0.1502408256429319 0.1205936049210454\n",
      "0.18256109306674484 0.13280988919489078\n",
      "0.13857299125593983 0.10687512176809041\n",
      "\n",
      "% error =  191.91933658251398\n",
      "Mean Approximation Error: 0.03213979622561459 / True Kernel sd : 0.016746512778714393 / Mean true Kernel Value : 0.145558482819864\n"
     ]
    }
   ],
   "source": [
    "n_mean = 10\n",
    "\n",
    "mu = Z\n",
    "\n",
    "mean_error = 0\n",
    "mean_value = 0\n",
    "var = 0\n",
    "for i in tqdm_notebook(range(n_mean)):\n",
    "    x = np.random.choice(X_train)\n",
    "    y = np.random.choice(X_train)\n",
    "\n",
    "    true_value = conv_kernel(x,y,k, σ)\n",
    "    approx_value = approx_K(x, y, mu, k, σ)\n",
    "    \n",
    "    mean_error += np.abs(true_value - approx_value)\n",
    "    mean_value += true_value\n",
    "    var += true_value**2\n",
    "    \n",
    "    if (i<10):\n",
    "        print(true_value, approx_value)\n",
    "    \n",
    "mean_error = mean_error/n_mean\n",
    "mean_value = mean_value/n_mean\n",
    "var = var/n_mean- mean_value**2\n",
    "standard_deviation = np.sqrt(var)    \n",
    "\n",
    "print(f\"% error =  {mean_error/standard_deviation*100}\")\n",
    "print(f\"Mean Approximation Error: {mean_error} / True Kernel sd : {standard_deviation} / Mean true Kernel Value : {mean_value}\")"
   ]
  },
  {
   "cell_type": "markdown",
   "metadata": {},
   "source": [
    "**Compute embeddings and Gram matrix**"
   ]
  },
  {
   "cell_type": "code",
   "execution_count": 38,
   "metadata": {
    "scrolled": true
   },
   "outputs": [
    {
     "data": {
      "application/vnd.jupyter.widget-view+json": {
       "model_id": "f4032616a6784e4daca8f540323f9784",
       "version_major": 2,
       "version_minor": 0
      },
      "text/plain": [
       "HBox(children=(IntProgress(value=0, max=1600), HTML(value='')))"
      ]
     },
     "metadata": {},
     "output_type": "display_data"
    },
    {
     "name": "stdout",
     "output_type": "stream",
     "text": [
      "\n"
     ]
    },
    {
     "data": {
      "application/vnd.jupyter.widget-view+json": {
       "model_id": "38426408c2b34acd8821559f413ff5d0",
       "version_major": 2,
       "version_minor": 0
      },
      "text/plain": [
       "HBox(children=(IntProgress(value=0, max=400), HTML(value='')))"
      ]
     },
     "metadata": {},
     "output_type": "display_data"
    },
    {
     "name": "stdout",
     "output_type": "stream",
     "text": [
      "\n"
     ]
    }
   ],
   "source": [
    "i = 0\n",
    "X_train, Y_train, X_test = load_data(i, data_dir=DATA_DIR, files_dict=FILES, mat = False)\n",
    "X_val = X_train[1600:]\n",
    "Y_val = Y_train[1600:]\n",
    "X_train = X_train[:1600]\n",
    "Y_train = Y_train[:1600]\n",
    "\n",
    "\n",
    "embed_train = []\n",
    "for x in tqdm_notebook(X_train):\n",
    "    embed_train.append(ψ(x,mu,k,σ))\n",
    "embed_val = []\n",
    "for x in tqdm_notebook(X_val):\n",
    "    embed_val.append(ψ(x,mu,k,σ))\n",
    "    \n",
    "E_train = np.array(embed_train)\n",
    "E_val = np.array(embed_val)\n",
    "    \n",
    "# centering ?\n",
    "centering = False\n",
    "if centering == True:\n",
    "    E_train = E_train - np.mean(E_train)\n",
    "    E_val = E_val - np.mean(E_train)\n",
    "        \n",
    "# compute Gram matrix\n",
    "#K = E_train.dot(E_train.T)"
   ]
  },
  {
   "cell_type": "markdown",
   "metadata": {},
   "source": [
    "**Run SVM!**"
   ]
  },
  {
   "cell_type": "markdown",
   "metadata": {},
   "source": [
    "Dataset 0"
   ]
  },
  {
   "cell_type": "code",
   "execution_count": 58,
   "metadata": {},
   "outputs": [
    {
     "name": "stdout",
     "output_type": "stream",
     "text": [
      "Accuracy on train set / val set 0 : 0.845625 / 0.665 (λ: 6.6e-06,γ: 15.5)\n"
     ]
    }
   ],
   "source": [
    "γ = 15.5\n",
    "kernel = GaussianKernel(γ)\n",
    "λ = 6.6e-6\n",
    "#kernel = linear_kernel\n",
    "\n",
    "\n",
    "clf = SVM(λ, kernel)\n",
    "clf.fit(E_train, Y_train)\n",
    "y_pred_train =clf.predict(E_train)\n",
    "y_pred_val =clf.predict(E_val)\n",
    "score_train = clf.score(y_pred_train, Y_train)\n",
    "score_val = clf.score(y_pred_val, Y_val)\n",
    "print(f\"Accuracy on train set / val set {i} : {score_train} / {score_val} (λ: {λ},γ: {γ})\")"
   ]
  },
  {
   "cell_type": "markdown",
   "metadata": {},
   "source": [
    "Dataset 1"
   ]
  },
  {
   "cell_type": "code",
   "execution_count": 122,
   "metadata": {},
   "outputs": [
    {
     "data": {
      "application/vnd.jupyter.widget-view+json": {
       "model_id": "c85086056c7d4b029a4480088f770687",
       "version_major": 2,
       "version_minor": 0
      },
      "text/plain": [
       "HBox(children=(IntProgress(value=0, max=1600), HTML(value='')))"
      ]
     },
     "metadata": {},
     "output_type": "display_data"
    },
    {
     "data": {
      "application/vnd.jupyter.widget-view+json": {
       "model_id": "38ce5e9080d643b4a7c5ba9cd75a0e80",
       "version_major": 2,
       "version_minor": 0
      },
      "text/plain": [
       "HBox(children=(IntProgress(value=0, max=400), HTML(value='')))"
      ]
     },
     "metadata": {},
     "output_type": "display_data"
    },
    {
     "name": "stdout",
     "output_type": "stream",
     "text": [
      "Accuracy on train set / val set 1 : 1.0 / 0.6175 (λ: 20,γ: 2000)\n"
     ]
    }
   ],
   "source": [
    "kernel = gaussian_kernel\n",
    "γ = 2000\n",
    "λ = 20\n",
    "#kernel = linear_kernel\n",
    "\n",
    "\n",
    "clf = SVM(γ, λ, kernel)\n",
    "clf.fit(E_train, Y_train)\n",
    "y_pred_train =clf.predict(E_train)\n",
    "y_pred_val =clf.predict(E_val)\n",
    "score_train = clf.score(y_pred_train, Y_train)\n",
    "score_val = clf.score(y_pred_val, Y_val)\n",
    "print(f\"Accuracy on train set / val set {i} : {score_train} / {score_val} (λ: {λ},γ: {γ})\")"
   ]
  },
  {
   "cell_type": "markdown",
   "metadata": {},
   "source": [
    "Dataset 2"
   ]
  },
  {
   "cell_type": "code",
   "execution_count": 91,
   "metadata": {},
   "outputs": [
    {
     "data": {
      "application/vnd.jupyter.widget-view+json": {
       "model_id": "0b07ef9139fa467199954f20bd8b2f43",
       "version_major": 2,
       "version_minor": 0
      },
      "text/plain": [
       "HBox(children=(IntProgress(value=0, max=1600), HTML(value='')))"
      ]
     },
     "metadata": {},
     "output_type": "display_data"
    },
    {
     "data": {
      "application/vnd.jupyter.widget-view+json": {
       "model_id": "bfb66a78ea464241acfd33f8ceabbb14",
       "version_major": 2,
       "version_minor": 0
      },
      "text/plain": [
       "HBox(children=(IntProgress(value=0, max=400), HTML(value='')))"
      ]
     },
     "metadata": {},
     "output_type": "display_data"
    },
    {
     "name": "stdout",
     "output_type": "stream",
     "text": [
      "Accuracy on train set / val set 2 : 1.0 / 0.6475 (λ: 1,γ: 1720)\n"
     ]
    }
   ],
   "source": [
    "kernel = gaussian_kernel\n",
    "γ = 1720\n",
    "λ = 1\n",
    "#kernel = linear_kernel\n",
    "\n",
    "\n",
    "clf = SVM(γ, λ, kernel)\n",
    "clf.fit(E_train, Y_train)\n",
    "y_pred_train =clf.predict(E_train)\n",
    "y_pred_val =clf.predict(E_val)\n",
    "score_train = clf.score(y_pred_train, Y_train)\n",
    "score_val = clf.score(y_pred_val, Y_val)\n",
    "print(f\"Accuracy on train set / val set {i} : {score_train} / {score_val} (λ: {λ},γ: {γ})\")"
   ]
  },
  {
   "cell_type": "markdown",
   "metadata": {},
   "source": [
    "**Tuning**"
   ]
  },
  {
   "cell_type": "code",
   "execution_count": 52,
   "metadata": {
    "scrolled": false
   },
   "outputs": [
    {
     "name": "stdout",
     "output_type": "stream",
     "text": [
      "Accuracy on train set / val set 0 : 0.876875 / 0.65 (λ: 3e-06,γ: 13.0)\n",
      "Accuracy on train set / val set 0 : 0.843125 / 0.655 (λ: 4.888888888888889e-06,γ: 13.0)\n",
      "Accuracy on train set / val set 0 : 0.818125 / 0.6425 (λ: 6.777777777777778e-06,γ: 13.0)\n",
      "Accuracy on train set / val set 0 : 0.799375 / 0.6375 (λ: 8.666666666666666e-06,γ: 13.0)\n",
      "Accuracy on train set / val set 0 : 0.790625 / 0.6425 (λ: 1.0555555555555555e-05,γ: 13.0)\n",
      "Accuracy on train set / val set 0 : 0.781875 / 0.6475 (λ: 1.2444444444444445e-05,γ: 13.0)\n",
      "Accuracy on train set / val set 0 : 0.7725 / 0.6475 (λ: 1.4333333333333332e-05,γ: 13.0)\n",
      "Accuracy on train set / val set 0 : 0.766875 / 0.65 (λ: 1.622222222222222e-05,γ: 13.0)\n",
      "Accuracy on train set / val set 0 : 0.761875 / 0.65 (λ: 1.8111111111111112e-05,γ: 13.0)\n",
      "Accuracy on train set / val set 0 : 0.758125 / 0.645 (λ: 2e-05,γ: 13.0)\n",
      "Accuracy on train set / val set 0 : 0.880625 / 0.655 (λ: 3e-06,γ: 13.357142857142858)\n",
      "Accuracy on train set / val set 0 : 0.84625 / 0.6475 (λ: 4.888888888888889e-06,γ: 13.357142857142858)\n",
      "Accuracy on train set / val set 0 : 0.821875 / 0.6475 (λ: 6.777777777777778e-06,γ: 13.357142857142858)\n",
      "Accuracy on train set / val set 0 : 0.803125 / 0.635 (λ: 8.666666666666666e-06,γ: 13.357142857142858)\n",
      "Accuracy on train set / val set 0 : 0.794375 / 0.645 (λ: 1.0555555555555555e-05,γ: 13.357142857142858)\n",
      "Accuracy on train set / val set 0 : 0.78625 / 0.645 (λ: 1.2444444444444445e-05,γ: 13.357142857142858)\n",
      "Accuracy on train set / val set 0 : 0.775 / 0.6475 (λ: 1.4333333333333332e-05,γ: 13.357142857142858)\n",
      "Accuracy on train set / val set 0 : 0.771875 / 0.65 (λ: 1.622222222222222e-05,γ: 13.357142857142858)\n",
      "Accuracy on train set / val set 0 : 0.764375 / 0.6525 (λ: 1.8111111111111112e-05,γ: 13.357142857142858)\n",
      "Accuracy on train set / val set 0 : 0.759375 / 0.6475 (λ: 2e-05,γ: 13.357142857142858)\n",
      "Accuracy on train set / val set 0 : 0.885 / 0.6525 (λ: 3e-06,γ: 13.714285714285714)\n",
      "Accuracy on train set / val set 0 : 0.850625 / 0.6475 (λ: 4.888888888888889e-06,γ: 13.714285714285714)\n",
      "Accuracy on train set / val set 0 : 0.82625 / 0.66 (λ: 6.777777777777778e-06,γ: 13.714285714285714)\n",
      "Accuracy on train set / val set 0 : 0.809375 / 0.6325 (λ: 8.666666666666666e-06,γ: 13.714285714285714)\n",
      "Accuracy on train set / val set 0 : 0.794375 / 0.6425 (λ: 1.0555555555555555e-05,γ: 13.714285714285714)\n",
      "Accuracy on train set / val set 0 : 0.788125 / 0.645 (λ: 1.2444444444444445e-05,γ: 13.714285714285714)\n",
      "Accuracy on train set / val set 0 : 0.776875 / 0.645 (λ: 1.4333333333333332e-05,γ: 13.714285714285714)\n",
      "Accuracy on train set / val set 0 : 0.7725 / 0.65 (λ: 1.622222222222222e-05,γ: 13.714285714285714)\n",
      "Accuracy on train set / val set 0 : 0.766875 / 0.65 (λ: 1.8111111111111112e-05,γ: 13.714285714285714)\n",
      "Accuracy on train set / val set 0 : 0.7625 / 0.6525 (λ: 2e-05,γ: 13.714285714285714)\n",
      "Accuracy on train set / val set 0 : 0.888125 / 0.6525 (λ: 3e-06,γ: 14.071428571428571)\n",
      "Accuracy on train set / val set 0 : 0.8525 / 0.65 (λ: 4.888888888888889e-06,γ: 14.071428571428571)\n",
      "Accuracy on train set / val set 0 : 0.83 / 0.655 (λ: 6.777777777777778e-06,γ: 14.071428571428571)\n",
      "Accuracy on train set / val set 0 : 0.81125 / 0.635 (λ: 8.666666666666666e-06,γ: 14.071428571428571)\n",
      "Accuracy on train set / val set 0 : 0.798125 / 0.64 (λ: 1.0555555555555555e-05,γ: 14.071428571428571)\n",
      "Accuracy on train set / val set 0 : 0.79125 / 0.6425 (λ: 1.2444444444444445e-05,γ: 14.071428571428571)\n",
      "Accuracy on train set / val set 0 : 0.7825 / 0.645 (λ: 1.4333333333333332e-05,γ: 14.071428571428571)\n",
      "Accuracy on train set / val set 0 : 0.774375 / 0.6475 (λ: 1.622222222222222e-05,γ: 14.071428571428571)\n",
      "Accuracy on train set / val set 0 : 0.768125 / 0.65 (λ: 1.8111111111111112e-05,γ: 14.071428571428571)\n",
      "Accuracy on train set / val set 0 : 0.763125 / 0.655 (λ: 2e-05,γ: 14.071428571428571)\n",
      "Accuracy on train set / val set 0 : 0.893125 / 0.6425 (λ: 3e-06,γ: 14.428571428571429)\n",
      "Accuracy on train set / val set 0 : 0.855 / 0.6525 (λ: 4.888888888888889e-06,γ: 14.428571428571429)\n",
      "Accuracy on train set / val set 0 : 0.835625 / 0.6575 (λ: 6.777777777777778e-06,γ: 14.428571428571429)\n",
      "Accuracy on train set / val set 0 : 0.814375 / 0.635 (λ: 8.666666666666666e-06,γ: 14.428571428571429)\n",
      "Accuracy on train set / val set 0 : 0.8 / 0.635 (λ: 1.0555555555555555e-05,γ: 14.428571428571429)\n",
      "Accuracy on train set / val set 0 : 0.791875 / 0.64 (λ: 1.2444444444444445e-05,γ: 14.428571428571429)\n",
      "Accuracy on train set / val set 0 : 0.785625 / 0.645 (λ: 1.4333333333333332e-05,γ: 14.428571428571429)\n",
      "Accuracy on train set / val set 0 : 0.77625 / 0.645 (λ: 1.622222222222222e-05,γ: 14.428571428571429)\n",
      "Accuracy on train set / val set 0 : 0.77125 / 0.6525 (λ: 1.8111111111111112e-05,γ: 14.428571428571429)\n",
      "Accuracy on train set / val set 0 : 0.765 / 0.655 (λ: 2e-05,γ: 14.428571428571429)\n",
      "Accuracy on train set / val set 0 : 0.895625 / 0.6425 (λ: 3e-06,γ: 14.785714285714286)\n",
      "Accuracy on train set / val set 0 : 0.8575 / 0.65 (λ: 4.888888888888889e-06,γ: 14.785714285714286)\n",
      "Accuracy on train set / val set 0 : 0.841875 / 0.6525 (λ: 6.777777777777778e-06,γ: 14.785714285714286)\n",
      "Accuracy on train set / val set 0 : 0.820625 / 0.635 (λ: 8.666666666666666e-06,γ: 14.785714285714286)\n",
      "Accuracy on train set / val set 0 : 0.805 / 0.6325 (λ: 1.0555555555555555e-05,γ: 14.785714285714286)\n",
      "Accuracy on train set / val set 0 : 0.793125 / 0.6425 (λ: 1.2444444444444445e-05,γ: 14.785714285714286)\n",
      "Accuracy on train set / val set 0 : 0.78625 / 0.64 (λ: 1.4333333333333332e-05,γ: 14.785714285714286)\n",
      "Accuracy on train set / val set 0 : 0.778125 / 0.645 (λ: 1.622222222222222e-05,γ: 14.785714285714286)\n",
      "Accuracy on train set / val set 0 : 0.774375 / 0.65 (λ: 1.8111111111111112e-05,γ: 14.785714285714286)\n",
      "Accuracy on train set / val set 0 : 0.7675 / 0.6525 (λ: 2e-05,γ: 14.785714285714286)\n",
      "Accuracy on train set / val set 0 : 0.899375 / 0.6375 (λ: 3e-06,γ: 15.142857142857142)\n",
      "Accuracy on train set / val set 0 : 0.860625 / 0.6525 (λ: 4.888888888888889e-06,γ: 15.142857142857142)\n",
      "Accuracy on train set / val set 0 : 0.843125 / 0.6525 (λ: 6.777777777777778e-06,γ: 15.142857142857142)\n",
      "Accuracy on train set / val set 0 : 0.82375 / 0.645 (λ: 8.666666666666666e-06,γ: 15.142857142857142)\n",
      "Accuracy on train set / val set 0 : 0.806875 / 0.6325 (λ: 1.0555555555555555e-05,γ: 15.142857142857142)\n",
      "Accuracy on train set / val set 0 : 0.79625 / 0.6375 (λ: 1.2444444444444445e-05,γ: 15.142857142857142)\n",
      "Accuracy on train set / val set 0 : 0.79125 / 0.6425 (λ: 1.4333333333333332e-05,γ: 15.142857142857142)\n",
      "Accuracy on train set / val set 0 : 0.781875 / 0.645 (λ: 1.622222222222222e-05,γ: 15.142857142857142)\n",
      "Accuracy on train set / val set 0 : 0.7775 / 0.65 (λ: 1.8111111111111112e-05,γ: 15.142857142857142)\n",
      "Accuracy on train set / val set 0 : 0.77 / 0.6525 (λ: 2e-05,γ: 15.142857142857142)\n",
      "Accuracy on train set / val set 0 : 0.9025 / 0.6375 (λ: 3e-06,γ: 15.5)\n",
      "Accuracy on train set / val set 0 : 0.864375 / 0.65 (λ: 4.888888888888889e-06,γ: 15.5)\n",
      "Accuracy on train set / val set 0 : 0.845625 / 0.6625 (λ: 6.777777777777778e-06,γ: 15.5)\n",
      "Accuracy on train set / val set 0 : 0.825 / 0.65 (λ: 8.666666666666666e-06,γ: 15.5)\n",
      "Accuracy on train set / val set 0 : 0.8125 / 0.63 (λ: 1.0555555555555555e-05,γ: 15.5)\n",
      "Accuracy on train set / val set 0 : 0.798125 / 0.6375 (λ: 1.2444444444444445e-05,γ: 15.5)\n",
      "Accuracy on train set / val set 0 : 0.791875 / 0.64 (λ: 1.4333333333333332e-05,γ: 15.5)\n",
      "Accuracy on train set / val set 0 : 0.78375 / 0.6425 (λ: 1.622222222222222e-05,γ: 15.5)\n",
      "Accuracy on train set / val set 0 : 0.779375 / 0.645 (λ: 1.8111111111111112e-05,γ: 15.5)\n",
      "Accuracy on train set / val set 0 : 0.773125 / 0.655 (λ: 2e-05,γ: 15.5)\n",
      "Accuracy on train set / val set 0 : 0.9075 / 0.645 (λ: 3e-06,γ: 15.857142857142858)\n",
      "Accuracy on train set / val set 0 : 0.868125 / 0.65 (λ: 4.888888888888889e-06,γ: 15.857142857142858)\n",
      "Accuracy on train set / val set 0 : 0.848125 / 0.6625 (λ: 6.777777777777778e-06,γ: 15.857142857142858)\n",
      "Accuracy on train set / val set 0 : 0.83 / 0.6525 (λ: 8.666666666666666e-06,γ: 15.857142857142858)\n",
      "Accuracy on train set / val set 0 : 0.813125 / 0.6275 (λ: 1.0555555555555555e-05,γ: 15.857142857142858)\n",
      "Accuracy on train set / val set 0 : 0.801875 / 0.635 (λ: 1.2444444444444445e-05,γ: 15.857142857142858)\n",
      "Accuracy on train set / val set 0 : 0.794375 / 0.635 (λ: 1.4333333333333332e-05,γ: 15.857142857142858)\n",
      "Accuracy on train set / val set 0 : 0.7875 / 0.6425 (λ: 1.622222222222222e-05,γ: 15.857142857142858)\n",
      "Accuracy on train set / val set 0 : 0.77875 / 0.6375 (λ: 1.8111111111111112e-05,γ: 15.857142857142858)\n",
      "Accuracy on train set / val set 0 : 0.77625 / 0.6475 (λ: 2e-05,γ: 15.857142857142858)\n",
      "Accuracy on train set / val set 0 : 0.9125 / 0.6425 (λ: 3e-06,γ: 16.214285714285715)\n",
      "Accuracy on train set / val set 0 : 0.874375 / 0.6575 (λ: 4.888888888888889e-06,γ: 16.214285714285715)\n",
      "Accuracy on train set / val set 0 : 0.85 / 0.6575 (λ: 6.777777777777778e-06,γ: 16.214285714285715)\n",
      "Accuracy on train set / val set 0 : 0.83125 / 0.655 (λ: 8.666666666666666e-06,γ: 16.214285714285715)\n",
      "Accuracy on train set / val set 0 : 0.81625 / 0.635 (λ: 1.0555555555555555e-05,γ: 16.214285714285715)\n",
      "Accuracy on train set / val set 0 : 0.8075 / 0.6325 (λ: 1.2444444444444445e-05,γ: 16.214285714285715)\n",
      "Accuracy on train set / val set 0 : 0.796875 / 0.635 (λ: 1.4333333333333332e-05,γ: 16.214285714285715)\n",
      "Accuracy on train set / val set 0 : 0.79 / 0.6375 (λ: 1.622222222222222e-05,γ: 16.214285714285715)\n",
      "Accuracy on train set / val set 0 : 0.780625 / 0.635 (λ: 1.8111111111111112e-05,γ: 16.214285714285715)\n",
      "Accuracy on train set / val set 0 : 0.778125 / 0.6425 (λ: 2e-05,γ: 16.214285714285715)\n",
      "Accuracy on train set / val set 0 : 0.915625 / 0.6425 (λ: 3e-06,γ: 16.571428571428573)\n",
      "Accuracy on train set / val set 0 : 0.876875 / 0.655 (λ: 4.888888888888889e-06,γ: 16.571428571428573)\n",
      "Accuracy on train set / val set 0 : 0.854375 / 0.66 (λ: 6.777777777777778e-06,γ: 16.571428571428573)\n",
      "Accuracy on train set / val set 0 : 0.834375 / 0.655 (λ: 8.666666666666666e-06,γ: 16.571428571428573)\n",
      "Accuracy on train set / val set 0 : 0.820625 / 0.64 (λ: 1.0555555555555555e-05,γ: 16.571428571428573)\n",
      "Accuracy on train set / val set 0 : 0.80875 / 0.6275 (λ: 1.2444444444444445e-05,γ: 16.571428571428573)\n",
      "Accuracy on train set / val set 0 : 0.796875 / 0.64 (λ: 1.4333333333333332e-05,γ: 16.571428571428573)\n",
      "Accuracy on train set / val set 0 : 0.79125 / 0.6375 (λ: 1.622222222222222e-05,γ: 16.571428571428573)\n",
      "Accuracy on train set / val set 0 : 0.78375 / 0.6375 (λ: 1.8111111111111112e-05,γ: 16.571428571428573)\n",
      "Accuracy on train set / val set 0 : 0.77875 / 0.64 (λ: 2e-05,γ: 16.571428571428573)\n",
      "Accuracy on train set / val set 0 : 0.91875 / 0.6425 (λ: 3e-06,γ: 16.92857142857143)\n",
      "Accuracy on train set / val set 0 : 0.88 / 0.6525 (λ: 4.888888888888889e-06,γ: 16.92857142857143)\n",
      "Accuracy on train set / val set 0 : 0.858125 / 0.6475 (λ: 6.777777777777778e-06,γ: 16.92857142857143)\n",
      "Accuracy on train set / val set 0 : 0.841875 / 0.6475 (λ: 8.666666666666666e-06,γ: 16.92857142857143)\n",
      "Accuracy on train set / val set 0 : 0.82375 / 0.645 (λ: 1.0555555555555555e-05,γ: 16.92857142857143)\n",
      "Accuracy on train set / val set 0 : 0.813125 / 0.6325 (λ: 1.2444444444444445e-05,γ: 16.92857142857143)\n",
      "Accuracy on train set / val set 0 : 0.801875 / 0.635 (λ: 1.4333333333333332e-05,γ: 16.92857142857143)\n",
      "Accuracy on train set / val set 0 : 0.79375 / 0.6325 (λ: 1.622222222222222e-05,γ: 16.92857142857143)\n",
      "Accuracy on train set / val set 0 : 0.7875 / 0.6425 (λ: 1.8111111111111112e-05,γ: 16.92857142857143)\n",
      "Accuracy on train set / val set 0 : 0.780625 / 0.6375 (λ: 2e-05,γ: 16.92857142857143)\n",
      "Accuracy on train set / val set 0 : 0.920625 / 0.6375 (λ: 3e-06,γ: 17.285714285714285)\n",
      "Accuracy on train set / val set 0 : 0.880625 / 0.65 (λ: 4.888888888888889e-06,γ: 17.285714285714285)\n",
      "Accuracy on train set / val set 0 : 0.859375 / 0.6475 (λ: 6.777777777777778e-06,γ: 17.285714285714285)\n",
      "Accuracy on train set / val set 0 : 0.844375 / 0.65 (λ: 8.666666666666666e-06,γ: 17.285714285714285)\n",
      "Accuracy on train set / val set 0 : 0.8275 / 0.6425 (λ: 1.0555555555555555e-05,γ: 17.285714285714285)\n",
      "Accuracy on train set / val set 0 : 0.814375 / 0.6375 (λ: 1.2444444444444445e-05,γ: 17.285714285714285)\n",
      "Accuracy on train set / val set 0 : 0.805625 / 0.6325 (λ: 1.4333333333333332e-05,γ: 17.285714285714285)\n",
      "Accuracy on train set / val set 0 : 0.795 / 0.63 (λ: 1.622222222222222e-05,γ: 17.285714285714285)\n",
      "Accuracy on train set / val set 0 : 0.78875 / 0.64 (λ: 1.8111111111111112e-05,γ: 17.285714285714285)\n",
      "Accuracy on train set / val set 0 : 0.7825 / 0.6375 (λ: 2e-05,γ: 17.285714285714285)\n",
      "Accuracy on train set / val set 0 : 0.92375 / 0.6375 (λ: 3e-06,γ: 17.642857142857142)\n",
      "Accuracy on train set / val set 0 : 0.88125 / 0.6425 (λ: 4.888888888888889e-06,γ: 17.642857142857142)\n",
      "Accuracy on train set / val set 0 : 0.86 / 0.6475 (λ: 6.777777777777778e-06,γ: 17.642857142857142)\n",
      "Accuracy on train set / val set 0 : 0.8475 / 0.65 (λ: 8.666666666666666e-06,γ: 17.642857142857142)\n",
      "Accuracy on train set / val set 0 : 0.83 / 0.6475 (λ: 1.0555555555555555e-05,γ: 17.642857142857142)\n",
      "Accuracy on train set / val set 0 : 0.81625 / 0.6375 (λ: 1.2444444444444445e-05,γ: 17.642857142857142)\n",
      "Accuracy on train set / val set 0 : 0.808125 / 0.6325 (λ: 1.4333333333333332e-05,γ: 17.642857142857142)\n",
      "Accuracy on train set / val set 0 : 0.7975 / 0.6275 (λ: 1.622222222222222e-05,γ: 17.642857142857142)\n",
      "Accuracy on train set / val set 0 : 0.791875 / 0.64 (λ: 1.8111111111111112e-05,γ: 17.642857142857142)\n",
      "Accuracy on train set / val set 0 : 0.785625 / 0.64 (λ: 2e-05,γ: 17.642857142857142)\n",
      "Accuracy on train set / val set 0 : 0.92625 / 0.64 (λ: 3e-06,γ: 18.0)\n",
      "Accuracy on train set / val set 0 : 0.88375 / 0.6425 (λ: 4.888888888888889e-06,γ: 18.0)\n",
      "Accuracy on train set / val set 0 : 0.863125 / 0.65 (λ: 6.777777777777778e-06,γ: 18.0)\n",
      "Accuracy on train set / val set 0 : 0.85 / 0.6525 (λ: 8.666666666666666e-06,γ: 18.0)\n",
      "Accuracy on train set / val set 0 : 0.830625 / 0.6525 (λ: 1.0555555555555555e-05,γ: 18.0)\n",
      "Accuracy on train set / val set 0 : 0.820625 / 0.6425 (λ: 1.2444444444444445e-05,γ: 18.0)\n",
      "Accuracy on train set / val set 0 : 0.81125 / 0.6325 (λ: 1.4333333333333332e-05,γ: 18.0)\n",
      "Accuracy on train set / val set 0 : 0.799375 / 0.6275 (λ: 1.622222222222222e-05,γ: 18.0)\n",
      "Accuracy on train set / val set 0 : 0.795 / 0.64 (λ: 1.8111111111111112e-05,γ: 18.0)\n",
      "Accuracy on train set / val set 0 : 0.786875 / 0.64 (λ: 2e-05,γ: 18.0)\n"
     ]
    }
   ],
   "source": [
    "γ = 18\n",
    "λ = 2e-5\n",
    "\n",
    "gamma_list = np.linspace(13,γ,15, endpoint = True)\n",
    "lambda_list = np.linspace(3e-6, λ, 10, endpoint = True)\n",
    "settings = list(product(gamma_list,lambda_list))\n",
    "\n",
    "\n",
    "for j, tup in enumerate(settings):\n",
    "    \n",
    "    γ, λ = tup\n",
    "    \n",
    "    kernel = GaussianKernel(γ)\n",
    "    clf = SVM(_lambda=λ, kernel=kernel)\n",
    "    clf.fit(E_train, Y_train)\n",
    "    y_pred_train =clf.predict(E_train)\n",
    "    y_pred_val =clf.predict(E_val)\n",
    "    score_train = clf.score(y_pred_train, Y_train)\n",
    "    score_val = clf.score(y_pred_val, Y_val)\n",
    "    print(f\"Accuracy on train set / val set {i} : {score_train} / {score_val} (λ: {λ},γ: {γ})\")\n"
   ]
  },
  {
   "cell_type": "markdown",
   "metadata": {},
   "source": [
    "## Save results"
   ]
  },
  {
   "cell_type": "code",
   "execution_count": 45,
   "metadata": {},
   "outputs": [],
   "source": [
    "def save_results(filename, results):\n",
    "    \"\"\"\n",
    "    Save results in a csv file\n",
    "    \n",
    "    Parameters\n",
    "    -----------\n",
    "    - filename : string\n",
    "        Name of the file to be saved under the ``results`` folder\n",
    "        \n",
    "    - results : numpy.array\n",
    "        Resulting array (0 and 1's)\n",
    "    \"\"\"\n",
    "    \n",
    "    assert filename.endswith(\".csv\"), \"this is not a csv extension!\"\n",
    "    # Convert results to int\n",
    "    results = results.astype(\"int\")\n",
    "    \n",
    "    with open(os.path.join(RESULT_DIR, filename), 'w', newline='') as csvfile:\n",
    "        writer = csv.writer(csvfile, delimiter=',')\n",
    "\n",
    "        # Write header\n",
    "        writer.writerow([\"Id\", \"Bound\"]) \n",
    "        assert len(results) == 3000, \"There is not 3000 predictions\"\n",
    "        # Write results\n",
    "        for i in range(len(results)):\n",
    "            writer.writerow([i, results[i]])"
   ]
  },
  {
   "cell_type": "code",
   "execution_count": 50,
   "metadata": {},
   "outputs": [],
   "source": [
    "# Test the save results function\n",
    "save_results(\"results5.csv\", results)"
   ]
  },
  {
   "cell_type": "code",
   "execution_count": null,
   "metadata": {},
   "outputs": [],
   "source": []
  }
 ],
 "metadata": {
  "kernelspec": {
   "display_name": "Python 3",
   "language": "python",
   "name": "python3"
  },
  "language_info": {
   "codemirror_mode": {
    "name": "ipython",
    "version": 3
   },
   "file_extension": ".py",
   "mimetype": "text/x-python",
   "name": "python",
   "nbconvert_exporter": "python",
   "pygments_lexer": "ipython3",
   "version": "3.6.8"
  }
 },
 "nbformat": 4,
 "nbformat_minor": 2
}
