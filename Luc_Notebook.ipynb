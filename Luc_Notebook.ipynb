{
 "cells": [
  {
   "cell_type": "markdown",
   "metadata": {},
   "source": [
    "**Load datas**"
   ]
  },
  {
   "cell_type": "code",
   "execution_count": 202,
   "metadata": {},
   "outputs": [],
   "source": [
    "import csv\n",
    "\n",
    "\n",
    "X0 = []\n",
    "with open('Xtr0_mat100.csv', newline='') as csvfile:\n",
    "    reader = csv.reader(csvfile, delimiter=' ', quotechar='|')\n",
    "    for row in reader:\n",
    "        X0.append(row)\n",
    "        \n",
    "Y0 = []\n",
    "with open('Ytr1.csv', newline='') as csvfile:\n",
    "    reader = csv.reader(csvfile, delimiter=',', quotechar='|')\n",
    "    for row in reader:\n",
    "        Y.append(row[1])\n",
    "Y0 = Y[1:]\n",
    "\n",
    "\n",
    "\n",
    "X1 = []\n",
    "with open('Xtr1_mat100.csv', newline='') as csvfile:\n",
    "    reader = csv.reader(csvfile, delimiter=' ', quotechar='|')\n",
    "    for row in reader:\n",
    "        X.append(row)\n",
    "        \n",
    "Y1 = []\n",
    "with open('Ytr1.csv', newline='') as csvfile:\n",
    "    reader = csv.reader(csvfile, delimiter=',', quotechar='|')\n",
    "    for row in reader:\n",
    "        Y1.append(row[1])\n",
    "Y1 = Y1[1:]\n",
    "\n",
    "import csv\n",
    "\n",
    "\n",
    "X2 = []\n",
    "with open('Xtr2_mat100.csv', newline='') as csvfile:\n",
    "    reader = csv.reader(csvfile, delimiter=' ', quotechar='|')\n",
    "    for row in reader:\n",
    "        X.append(row)\n",
    "        \n",
    "Y2 = []\n",
    "with open('Ytr2.csv', newline='') as csvfile:\n",
    "    reader = csv.reader(csvfile, delimiter=',', quotechar='|')\n",
    "    for row in reader:\n",
    "        Y2.append(row[1])\n",
    "Y2 = Y2[1:]"
   ]
  },
  {
   "cell_type": "code",
   "execution_count": 203,
   "metadata": {},
   "outputs": [
    {
     "data": {
      "text/plain": [
       "((2000, 100), (2000,))"
      ]
     },
     "execution_count": 203,
     "metadata": {},
     "output_type": "execute_result"
    }
   ],
   "source": [
    "np.shape(X), np.shape(Y)"
   ]
  },
  {
   "cell_type": "markdown",
   "metadata": {},
   "source": [
    "**A Simple Pattern Recognition Algorithm**"
   ]
  },
  {
   "cell_type": "code",
   "execution_count": 204,
   "metadata": {},
   "outputs": [],
   "source": [
    "Y = np.array(Y).astype('int')\n",
    "X = np.array(X).astype('float')"
   ]
  },
  {
   "cell_type": "code",
   "execution_count": 205,
   "metadata": {},
   "outputs": [],
   "source": [
    "def kernel(x,y):\n",
    "    c = 10\n",
    "    return (x.dot(y) + c)**2"
   ]
  },
  {
   "cell_type": "code",
   "execution_count": 206,
   "metadata": {},
   "outputs": [],
   "source": [
    "class SPR:\n",
    "    \n",
    "    def __init__(self):\n",
    "        self.m0 = 0\n",
    "        self.m1 = 0\n",
    "        self.b = 0\n",
    "        self.list0 = []\n",
    "        self.list1 = []\n",
    "\n",
    "        \n",
    "    def fit(self,X,y):\n",
    "        self.X_train = X\n",
    "        self.list0 = list(np.where(Y==0)[0])\n",
    "        self.list1 = list(np.where(Y==1)[0])\n",
    "        self.m0 = len(self.list0)\n",
    "        self.m1 = len(self.list1)\n",
    "        \n",
    "        X0 = np.array([X[i] for i in self.list0])\n",
    "        X1 = np.array([X[i] for i in self.list1])\n",
    "        self.X0 = X0\n",
    "        self.X1 = X1\n",
    "        \n",
    "        \n",
    "        #self.b = 1/2 * (1/(self.m0**2)*np.sum(X0.dot(X0.T)) - 1/(self.m1)**2*np.sum(X1.dot(X1.T)))\n",
    "        \n",
    "        self.b = 1/2 * (1/(self.m0**2)*np.sum([kernel(self.X_train[i],self.X_train[j]) for i in self.list0 for j in self.list0]) - 1/(self.m1)**2*np.sum([kernel(self.X_train[i],self.X_train[j]) for i in self.list1 for j in self.list1]))\n",
    "    \n",
    "    def predict(self,X):\n",
    "        \n",
    "        y_pred = np.zeros(len(X))\n",
    "        \n",
    "        for i in range(len(X)):\n",
    "            val = 1/self.m1*np.sum([kernel(self.X_train[k],X[i]) for k in self.list1]) - 1/self.m0*np.sum([kernel(self.X_train[k],X[i]) for k in self.list0]) + self.b\n",
    "            y_pred[i] = np.sign(val)/2 + 1/2\n",
    "        return y_pred\n",
    "    \n",
    "    def score(self, y, y_pred):\n",
    "        return np.linalg.norm(y-y_pred)\n",
    "    "
   ]
  },
  {
   "cell_type": "code",
   "execution_count": 207,
   "metadata": {},
   "outputs": [],
   "source": [
    "clf = SPR()\n",
    "clf.fit(X,Y)"
   ]
  },
  {
   "cell_type": "code",
   "execution_count": 208,
   "metadata": {},
   "outputs": [],
   "source": [
    "y_pred = clf.predict(X)"
   ]
  },
  {
   "cell_type": "code",
   "execution_count": 209,
   "metadata": {},
   "outputs": [
    {
     "data": {
      "text/plain": [
       "0.6395"
      ]
     },
     "execution_count": 209,
     "metadata": {},
     "output_type": "execute_result"
    }
   ],
   "source": [
    "np.sum(y_pred == Y)/len(Y)"
   ]
  },
  {
   "cell_type": "code",
   "execution_count": 192,
   "metadata": {},
   "outputs": [
    {
     "data": {
      "text/plain": [
       "array([0., 0., 0., 0., 0., 0., 0., 0., 0., 0., 0., 0., 0., 1., 1., 0., 1.,\n",
       "       0., 0., 0.])"
      ]
     },
     "execution_count": 192,
     "metadata": {},
     "output_type": "execute_result"
    }
   ],
   "source": [
    "y_pred[:20]"
   ]
  },
  {
   "cell_type": "code",
   "execution_count": 163,
   "metadata": {},
   "outputs": [],
   "source": [
    "X0 = []\n",
    "with open('Xtr0_mat100.csv', newline='') as csvfile:\n",
    "    reader = csv.reader(csvfile, delimiter=' ', quotechar='|')\n",
    "    for row in reader:\n",
    "        X0.append(row)\n",
    "        \n",
    "Y0 = []\n",
    "with open('Ytr0.csv', newline='') as csvfile:\n",
    "    reader = csv.reader(csvfile, delimiter=',', quotechar='|')\n",
    "    for row in reader:\n",
    "        Y0.append(row[1])\n",
    "        \n",
    "X0_test = []\n",
    "with open('Xte0_mat100.csv', newline='') as csvfile:\n",
    "    reader = csv.reader(csvfile, delimiter=' ', quotechar='|')\n",
    "    for row in reader:\n",
    "        X0_test.append(row)\n",
    "        \n",
    "Y0 = Y0[1:]\n",
    "Y0 = np.array(Y0).astype('int')\n",
    "X0 = np.array(X0).astype('float')\n",
    "X0_test = np.array(X0_test).astype('float')\n",
    "\n",
    "clf = SPR()\n",
    "clf.fit(X0,Y0)\n",
    "y_pred0 = clf.predict(X0_test)\n",
    "\n",
    "#----------------------------------\n",
    "\n",
    "X1 = []\n",
    "with open('Xtr1_mat100.csv', newline='') as csvfile:\n",
    "    reader = csv.reader(csvfile, delimiter=' ', quotechar='|')\n",
    "    for row in reader:\n",
    "        X1.append(row)\n",
    "        \n",
    "Y1 = []\n",
    "with open('Ytr1.csv', newline='') as csvfile:\n",
    "    reader = csv.reader(csvfile, delimiter=',', quotechar='|')\n",
    "    for row in reader:\n",
    "        Y1.append(row[1])\n",
    "        \n",
    "X1_test = []\n",
    "with open('Xte1_mat100.csv', newline='') as csvfile:\n",
    "    reader = csv.reader(csvfile, delimiter=' ', quotechar='|')\n",
    "    for row in reader:\n",
    "        X1_test.append(row)\n",
    "        \n",
    "Y1 = Y1[1:]\n",
    "Y1 = np.array(Y1).astype('int')\n",
    "X1 = np.array(X1).astype('float')\n",
    "X1_test = np.array(X1_test).astype('float')\n",
    "\n",
    "clf = SPR()\n",
    "clf.fit(X1,Y1)\n",
    "y_pred1 = clf.predict(X1_test)\n",
    "\n",
    "#----------------------------------\n",
    "X2 = []\n",
    "with open('Xtr2_mat100.csv', newline='') as csvfile:\n",
    "    reader = csv.reader(csvfile, delimiter=' ', quotechar='|')\n",
    "    for row in reader:\n",
    "        X2.append(row)\n",
    "        \n",
    "Y2 = []\n",
    "with open('Ytr2.csv', newline='') as csvfile:\n",
    "    reader = csv.reader(csvfile, delimiter=',', quotechar='|')\n",
    "    for row in reader:\n",
    "        Y2.append(row[1])\n",
    "        \n",
    "X2_test = []\n",
    "with open('Xte2_mat100.csv', newline='') as csvfile:\n",
    "    reader = csv.reader(csvfile, delimiter=' ', quotechar='|')\n",
    "    for row in reader:\n",
    "        X2_test.append(row)\n",
    "        \n",
    "Y2 = Y2[1:]\n",
    "Y2 = np.array(Y2).astype('int')\n",
    "X2 = np.array(X2).astype('float')\n",
    "X2_test = np.array(X2_test).astype('float')\n",
    "\n",
    "clf = SPR()\n",
    "clf.fit(X2,Y2)\n",
    "y_pred2 = clf.predict(X2_test)\n",
    "\n",
    "#----------------------------------"
   ]
  },
  {
   "cell_type": "code",
   "execution_count": 164,
   "metadata": {},
   "outputs": [],
   "source": [
    "y_pred = list(y_pred0) + list(y_pred1) + list(y_pred2)"
   ]
  },
  {
   "cell_type": "code",
   "execution_count": 166,
   "metadata": {},
   "outputs": [],
   "source": [
    "y_pred = np.array(y_pred).astype('int')"
   ]
  },
  {
   "cell_type": "code",
   "execution_count": 167,
   "metadata": {},
   "outputs": [
    {
     "data": {
      "text/plain": [
       "array([1, 1, 1, ..., 0, 0, 0])"
      ]
     },
     "execution_count": 167,
     "metadata": {},
     "output_type": "execute_result"
    }
   ],
   "source": [
    "y_pred"
   ]
  },
  {
   "cell_type": "code",
   "execution_count": 169,
   "metadata": {},
   "outputs": [],
   "source": [
    "with open(\"results.csv\", 'w', newline='') as csvfile:\n",
    "    writer = csv.writer(csvfile, delimiter=',')\n",
    "    \n",
    "    writer.writerow(['Id', 'Bound'])\n",
    "    for i in range(3000):\n",
    "        writer.writerow([i,y_pred[i]])"
   ]
  },
  {
   "cell_type": "code",
   "execution_count": null,
   "metadata": {},
   "outputs": [],
   "source": []
  }
 ],
 "metadata": {
  "kernelspec": {
   "display_name": "Python 3",
   "language": "python",
   "name": "python3"
  },
  "language_info": {
   "codemirror_mode": {
    "name": "ipython",
    "version": 3
   },
   "file_extension": ".py",
   "mimetype": "text/x-python",
   "name": "python",
   "nbconvert_exporter": "python",
   "pygments_lexer": "ipython3",
   "version": "3.6.8"
  }
 },
 "nbformat": 4,
 "nbformat_minor": 2
}
